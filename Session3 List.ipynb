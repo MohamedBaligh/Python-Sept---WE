{
 "cells": [
  {
   "cell_type": "code",
   "execution_count": null,
   "metadata": {},
   "outputs": [],
   "source": [
    "if [condition]:\n",
    "    statememts\n",
    "elif [condition]:\n",
    "    statements\n",
    "else:\n",
    "    "
   ]
  },
  {
   "cell_type": "code",
   "execution_count": null,
   "metadata": {},
   "outputs": [],
   "source": [
    "for [userdefined variable] in [iterable]:\n",
    "    statements"
   ]
  },
  {
   "cell_type": "code",
   "execution_count": 6,
   "metadata": {},
   "outputs": [
    {
     "name": "stdout",
     "output_type": "stream",
     "text": [
      "0 10\n",
      "1 20\n",
      "2 30\n",
      "3 40\n",
      "4 50\n",
      "5 60\n"
     ]
    }
   ],
   "source": [
    "l = [10,20,30,40,50,60]\n",
    "# for value in l:\n",
    "#     print(value)\n",
    "    \n",
    "# for i,v in enumerate(l):\n",
    "#     print(i,v)\n",
    "    \n",
    "for index in range(len(l)):\n",
    "    print(index,l[index])"
   ]
  },
  {
   "cell_type": "code",
   "execution_count": null,
   "metadata": {},
   "outputs": [],
   "source": []
  },
  {
   "cell_type": "code",
   "execution_count": null,
   "metadata": {},
   "outputs": [],
   "source": [
    "range(10) 0 1 ... 9\n",
    "range(10,50) 10 11 .... 49 \n",
    "range(0,50,5) 0, 5 , 10 ..... 45"
   ]
  },
  {
   "cell_type": "code",
   "execution_count": 7,
   "metadata": {},
   "outputs": [
    {
     "name": "stdout",
     "output_type": "stream",
     "text": [
      "210\n"
     ]
    }
   ],
   "source": [
    "count = 1 \n",
    "sum = 0\n",
    "while(count <= 20):\n",
    "    sum = sum + count \n",
    "    count+=1\n",
    "print(sum)\n",
    "    "
   ]
  },
  {
   "cell_type": "code",
   "execution_count": 24,
   "metadata": {},
   "outputs": [
    {
     "name": "stdout",
     "output_type": "stream",
     "text": [
      "\n"
     ]
    }
   ],
   "source": [
    "s = \"1234567890\"\n",
    "# print(s[2:8])\n",
    "# print(s[2:-1])\n",
    "# print(s[0:10:2])\n",
    "# print(s[0:10:-1])"
   ]
  },
  {
   "cell_type": "markdown",
   "metadata": {},
   "source": [
    "### List\n",
    "\n",
    "- > [10,20,30,\"Python\"]\n",
    "- > Mutable => methods to add update and delete \n",
    "- > Ordered => indexing and slicing "
   ]
  },
  {
   "cell_type": "code",
   "execution_count": 27,
   "metadata": {},
   "outputs": [
    {
     "name": "stdout",
     "output_type": "stream",
     "text": [
      "1655689190792\n",
      "[10, 20, 30, 40, 50, 60] 1655689190792\n"
     ]
    }
   ],
   "source": [
    "l = [10,20,30,40,50]\n",
    "print(id(l))\n",
    "l.append(60)\n",
    "print(l,id(l))"
   ]
  },
  {
   "cell_type": "code",
   "execution_count": 29,
   "metadata": {},
   "outputs": [
    {
     "name": "stdout",
     "output_type": "stream",
     "text": [
      "1413642400\n",
      "1413645600\n"
     ]
    }
   ],
   "source": [
    "num1 = 100\n",
    "print(id(num1))\n",
    "num1 = 200\n",
    "print(id(num1))"
   ]
  },
  {
   "cell_type": "code",
   "execution_count": null,
   "metadata": {},
   "outputs": [],
   "source": [
    "Immutable :\n",
    "    int\n",
    "    float \n",
    "    tuple \n",
    "    bool\n",
    "    str\n",
    "Mutable \n",
    "    list\n",
    "    dict \n",
    "    set "
   ]
  },
  {
   "cell_type": "code",
   "execution_count": 31,
   "metadata": {},
   "outputs": [],
   "source": [
    "l = [100,200,300,400]"
   ]
  },
  {
   "cell_type": "markdown",
   "metadata": {},
   "source": [
    "Add : \n",
    "    append \n",
    "    extend \n",
    "    insert "
   ]
  },
  {
   "cell_type": "code",
   "execution_count": 36,
   "metadata": {},
   "outputs": [
    {
     "name": "stdout",
     "output_type": "stream",
     "text": [
      "[100, 200, 300, 400, 500, [500, 600]]\n"
     ]
    }
   ],
   "source": [
    "l.append([500,600])\n",
    "print(l)"
   ]
  },
  {
   "cell_type": "code",
   "execution_count": 34,
   "metadata": {},
   "outputs": [
    {
     "name": "stdout",
     "output_type": "stream",
     "text": [
      "Java\n",
      "Java\n"
     ]
    }
   ],
   "source": [
    "s = \"python\"\n",
    "print(s)\n",
    "s = \"Java\"\n",
    "\n",
    "print(s)"
   ]
  },
  {
   "cell_type": "code",
   "execution_count": 45,
   "metadata": {},
   "outputs": [
    {
     "name": "stdout",
     "output_type": "stream",
     "text": [
      "300\n",
      "300\n",
      "[300, 400, 500]\n"
     ]
    }
   ],
   "source": [
    "l = [100,200,300,400,500]\n",
    "print(l[2])\n",
    "print(l[-3])\n",
    "print(l[2:])"
   ]
  },
  {
   "cell_type": "code",
   "execution_count": 42,
   "metadata": {},
   "outputs": [
    {
     "name": "stdout",
     "output_type": "stream",
     "text": [
      "2000\n"
     ]
    }
   ],
   "source": [
    "l = [1,2,3,4,5,6,[100,200,300,400,[1000,2000,3000]]]\n",
    "print(l[-1][-1][1])"
   ]
  },
  {
   "cell_type": "code",
   "execution_count": 48,
   "metadata": {},
   "outputs": [
    {
     "name": "stdout",
     "output_type": "stream",
     "text": [
      "1655689546760\n",
      "1655689546760 [10, 20, 30, 40]\n"
     ]
    }
   ],
   "source": [
    "l = [10,20,30]\n",
    "print(id(l))\n",
    "l.append(40)\n",
    "print(id(l),l)\n",
    "\n"
   ]
  },
  {
   "cell_type": "code",
   "execution_count": 51,
   "metadata": {},
   "outputs": [
    {
     "name": "stdout",
     "output_type": "stream",
     "text": [
      "1413642400\n",
      "1413644000\n"
     ]
    }
   ],
   "source": [
    "num1 = 100 \n",
    "print(id(num1))\n",
    "num1 = 150\n",
    "print(id(num1))"
   ]
  },
  {
   "cell_type": "code",
   "execution_count": null,
   "metadata": {},
   "outputs": [],
   "source": []
  },
  {
   "cell_type": "code",
   "execution_count": null,
   "metadata": {},
   "outputs": [],
   "source": [
    "100  \n",
    "150 num1"
   ]
  },
  {
   "cell_type": "code",
   "execution_count": 60,
   "metadata": {},
   "outputs": [
    {
     "name": "stdout",
     "output_type": "stream",
     "text": [
      "{1: 10, 2: 20}\n",
      "[100, 200, 300, 'Hi', 'Java', {1: 10, 2: 20}]\n",
      "[100, 200, 300, 'Hi', 'Java', {1: 10, 2: 20}, 'Python String']\n",
      "1655688812488\n"
     ]
    }
   ],
   "source": [
    "l = [100,200,300,\"Hi\",\"Java\",{1:10,2:20}]\n",
    "print((l[-1]))\n",
    "print(l)\n",
    "l1 = [1,2,3]\n",
    "l.append(\"Python String\")\n",
    "print(l)\n",
    "print(id(l))"
   ]
  },
  {
   "cell_type": "code",
   "execution_count": 63,
   "metadata": {},
   "outputs": [
    {
     "name": "stdout",
     "output_type": "stream",
     "text": [
      "[10, 20, [1000, 2000], 30, 40, 50]\n"
     ]
    }
   ],
   "source": [
    "l2 = [10,20,30,40,50]\n",
    "l2.insert(2,[1000,2000])\n",
    "print(l2)"
   ]
  },
  {
   "cell_type": "code",
   "execution_count": 73,
   "metadata": {},
   "outputs": [
    {
     "name": "stdout",
     "output_type": "stream",
     "text": [
      "[1, 4, 7]\n",
      "[2, 5, 8]\n",
      "[3, 6, 9]\n",
      "[10, 20, 30]\n",
      "[[1, 4, 7], [2, 5, 8], [3, 6, 9], [10, 20, 30]]\n"
     ]
    }
   ],
   "source": [
    "l = [[1,2,3,10],[4,5,6,20],[7,8,9,30]]\n",
    "l2 =[]\n",
    "# for value1 in l:\n",
    "#     l2.extend(value1)\n",
    "# print(l2)\n",
    "\n",
    "for index in range(len(l[0])):\n",
    "    l4 = []\n",
    "    for value in l:\n",
    "        l4.append(value[index])\n",
    "    print(l4)\n",
    "    l2.append(l4)\n",
    "print(l2)\n"
   ]
  },
  {
   "cell_type": "code",
   "execution_count": null,
   "metadata": {},
   "outputs": [],
   "source": []
  },
  {
   "cell_type": "markdown",
   "metadata": {},
   "source": [
    "\n",
    "1 2 3 10       1\n",
    "4 5 6 20       4\n",
    "7 8 9 30       7\n",
    "\n",
    "1 2 3 10       2\n",
    "4 5 6 20      5\n",
    "7 8 9 30      8\n",
    "\n",
    "1 2 3 10      3\n",
    "4 5 6 20      6\n",
    "7 8 9 30      9\n",
    "\n",
    "1 2 3 10      10\n",
    "4 5 6 20      20\n",
    "7 8 9 30      30\n",
    "\n",
    "\n",
    "\n",
    "\n",
    "\n"
   ]
  },
  {
   "cell_type": "code",
   "execution_count": null,
   "metadata": {},
   "outputs": [],
   "source": [
    "for value1 in l:\n",
    "    for value2 in value1:\n",
    "        l2.append(value2)\n",
    "print(l2)"
   ]
  },
  {
   "cell_type": "code",
   "execution_count": null,
   "metadata": {},
   "outputs": [],
   "source": [
    "l [[1,4,7],[2,5,8],[3,6,9]]"
   ]
  },
  {
   "cell_type": "code",
   "execution_count": null,
   "metadata": {},
   "outputs": [],
   "source": [
    "Add :\n",
    "     append \n",
    "        extend \n",
    "        instert"
   ]
  },
  {
   "cell_type": "code",
   "execution_count": 74,
   "metadata": {},
   "outputs": [
    {
     "name": "stdout",
     "output_type": "stream",
     "text": [
      "[10, 20, 300, 40, 50]\n"
     ]
    }
   ],
   "source": [
    "l = [10,20,30,40,50]\n",
    "l[2]= 300\n",
    "print(l)"
   ]
  },
  {
   "cell_type": "markdown",
   "metadata": {},
   "source": [
    "Delete :\n",
    "    pop > defaultly removes last elements ,or specify the index return the element removed  \n",
    "    remove > remove on value \n",
    "    clear > remove all the elements \n",
    "    del > del ref "
   ]
  },
  {
   "cell_type": "code",
   "execution_count": 81,
   "metadata": {},
   "outputs": [
    {
     "name": "stdout",
     "output_type": "stream",
     "text": [
      "[1, 2, 4, 5, 6, 5, 7, 8, 9] 3\n",
      "[1, 2, 4, 6, 5, 7, 8, 9]\n",
      "[]\n",
      "[1000]\n"
     ]
    },
    {
     "ename": "NameError",
     "evalue": "name 'l' is not defined",
     "output_type": "error",
     "traceback": [
      "\u001b[1;31m---------------------------------------------------------------------------\u001b[0m",
      "\u001b[1;31mNameError\u001b[0m                                 Traceback (most recent call last)",
      "\u001b[1;32m<ipython-input-81-e84b8f9afe5c>\u001b[0m in \u001b[0;36m<module>\u001b[1;34m()\u001b[0m\n\u001b[0;32m     12\u001b[0m \u001b[1;33m\u001b[0m\u001b[0m\n\u001b[0;32m     13\u001b[0m \u001b[1;32mdel\u001b[0m \u001b[0ml\u001b[0m\u001b[1;33m\u001b[0m\u001b[0m\n\u001b[1;32m---> 14\u001b[1;33m \u001b[0mprint\u001b[0m\u001b[1;33m(\u001b[0m\u001b[0ml\u001b[0m\u001b[1;33m)\u001b[0m\u001b[1;33m\u001b[0m\u001b[0m\n\u001b[0m",
      "\u001b[1;31mNameError\u001b[0m: name 'l' is not defined"
     ]
    }
   ],
   "source": [
    "l = [1,2,3,4,5,6,5,7,8,9]\n",
    "r = l.pop(2)\n",
    "print(l,r)\n",
    "\n",
    "l.remove(5)\n",
    "print(l)\n",
    "\n",
    "l.clear()\n",
    "print(l)\n",
    "l.append(1000)\n",
    "print(l)\n",
    "\n",
    "del l\n",
    "print(l)"
   ]
  },
  {
   "cell_type": "code",
   "execution_count": 82,
   "metadata": {},
   "outputs": [
    {
     "name": "stdout",
     "output_type": "stream",
     "text": [
      "[10, 20, 30, 40, 1, 2, 3, 4, 5]\n"
     ]
    }
   ],
   "source": [
    "l1 = [10,20,30,40]\n",
    "l2 = [1,2,3,4,5]\n",
    "print(l1 + l2)\n",
    "l3 = l1 + l2\n",
    "l1.extend(l2)"
   ]
  },
  {
   "cell_type": "code",
   "execution_count": 83,
   "metadata": {},
   "outputs": [
    {
     "name": "stdout",
     "output_type": "stream",
     "text": [
      "[1, 2, 1, 2, 1, 2, 1, 2, 1, 2, 1, 2, 1, 2, 1, 2, 1, 2, 1, 2]\n"
     ]
    }
   ],
   "source": [
    "print([1,2]*10)"
   ]
  },
  {
   "cell_type": "code",
   "execution_count": 88,
   "metadata": {},
   "outputs": [
    {
     "name": "stdout",
     "output_type": "stream",
     "text": [
      "[10, 20, 30]\n",
      "1655688696008 1655689736392\n"
     ]
    }
   ],
   "source": [
    "l1 = [10,20,30]\n",
    "l2 = list(l1)\n",
    "l1.append(40)\n",
    "print(l2)\n",
    "print(id(l1),id(l2))"
   ]
  },
  {
   "cell_type": "code",
   "execution_count": 93,
   "metadata": {},
   "outputs": [
    {
     "name": "stdout",
     "output_type": "stream",
     "text": [
      "1\n",
      "2\n",
      "[98, 85, 65, 50, 50, 45, 45, 32, 10]\n"
     ]
    }
   ],
   "source": [
    "l = [10,50,45,32,85,50,65,45,98]\n",
    "print(l.index(50))\n",
    "print(l.count(50))\n",
    "l.sort(reverse=True)\n",
    "print(l)"
   ]
  },
  {
   "cell_type": "code",
   "execution_count": 96,
   "metadata": {},
   "outputs": [
    {
     "name": "stdout",
     "output_type": "stream",
     "text": [
      "[10, 25, 65, 45, 20, 21, 56, 23, 65, 45, 21, 20, 56, 56, 10, 25]\n",
      "[10, 10, 20, 20, 21, 21, 23, 25, 25, 45, 45, 56, 56, 56, 65, 65]\n",
      "[10, 20, 21, 23, 25, 45, 56, 65]\n"
     ]
    }
   ],
   "source": [
    "l1 = [10,25,65,45,20,21,56,23]\n",
    "l2 = [65,45,21,20,56,56,10,25]\n",
    "l2.remove(56)\n",
    "l4 = []\n",
    "l3 = l1 + l2\n",
    "print(l3)\n",
    "l3.sort()\n",
    "print(l3)\n",
    "\n",
    "for value in l3:\n",
    "    if value not in l4:\n",
    "        l4.append(value)\n",
    "        \n",
    "print(l4)"
   ]
  },
  {
   "cell_type": "code",
   "execution_count": null,
   "metadata": {},
   "outputs": [],
   "source": [
    "for value in range(l)\n",
    "\n",
    "for i,v in enumerate(l)\n",
    "\n",
    "10 20 30 40 50 60 70 80 \n",
    "\n",
    "len = 8 \n",
    "\n",
    "30\n",
    "len = 7 \n",
    "\n",
    "\n",
    "\n"
   ]
  }
 ],
 "metadata": {
  "kernelspec": {
   "display_name": "Python 3",
   "language": "python",
   "name": "python3"
  },
  "language_info": {
   "codemirror_mode": {
    "name": "ipython",
    "version": 3
   },
   "file_extension": ".py",
   "mimetype": "text/x-python",
   "name": "python",
   "nbconvert_exporter": "python",
   "pygments_lexer": "ipython3",
   "version": "3.6.5"
  }
 },
 "nbformat": 4,
 "nbformat_minor": 2
}
